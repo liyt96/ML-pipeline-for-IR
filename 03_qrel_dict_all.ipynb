{
 "cells": [
  {
   "cell_type": "code",
   "execution_count": 1,
   "metadata": {},
   "outputs": [],
   "source": [
    "import copy\n",
    "import json\n",
    "from elasticsearch.helpers import bulk\n",
    "from tqdm import tqdm\n",
    "import os\n",
    "import re\n",
    "\n"
   ]
  },
  {
   "cell_type": "code",
   "execution_count": 4,
   "metadata": {},
   "outputs": [],
   "source": [
    "qrel_dict = {}\n",
    "with open('./info/qrel_dict.txt', 'r') as f:\n",
    "    qrel_dict = json.load(f)\n",
    "    \n",
    "docno_arr = []\n",
    "with open('./info/docno_arr.txt', 'r') as f:\n",
    "    docno_arr = json.load(f)\n",
    "\n",
    "qrel_dict_all = {}\n",
    "for item in qrel_dict:\n",
    "    qrel_dict_all[item] = docno_arr"
   ]
  },
  {
   "cell_type": "code",
   "execution_count": 9,
   "metadata": {},
   "outputs": [
    {
     "data": {
      "text/plain": [
       "84679"
      ]
     },
     "execution_count": 9,
     "metadata": {},
     "output_type": "execute_result"
    }
   ],
   "source": [
    "len(qrel_dict_all['99'])"
   ]
  },
  {
   "cell_type": "code",
   "execution_count": 10,
   "metadata": {},
   "outputs": [],
   "source": [
    "with open('./info/qrel_dict_all.txt', 'w') as f:\n",
    "    json.dump(qrel_dict_all, f)"
   ]
  },
  {
   "cell_type": "code",
   "execution_count": null,
   "metadata": {},
   "outputs": [],
   "source": []
  }
 ],
 "metadata": {
  "kernelspec": {
   "display_name": "Python 3",
   "language": "python",
   "name": "python3"
  },
  "language_info": {
   "codemirror_mode": {
    "name": "ipython",
    "version": 3
   },
   "file_extension": ".py",
   "mimetype": "text/x-python",
   "name": "python",
   "nbconvert_exporter": "python",
   "pygments_lexer": "ipython3",
   "version": "3.6.3"
  }
 },
 "nbformat": 4,
 "nbformat_minor": 4
}
