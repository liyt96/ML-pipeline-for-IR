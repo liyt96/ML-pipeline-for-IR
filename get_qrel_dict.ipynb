{
 "cells": [
  {
   "cell_type": "code",
   "execution_count": 1,
   "metadata": {},
   "outputs": [],
   "source": [
    "import copy\n",
    "import json\n",
    "from elasticsearch.helpers import bulk\n",
    "from tqdm import tqdm\n",
    "import os\n",
    "import re\n",
    "\n",
    "from elasticsearch import Elasticsearch\n",
    "es = Elasticsearch([{'host': 'localhost', 'port': 9200}])\n",
    "\n",
    "stoplist = open('/Users/liyuetian/Documents/College/NEU/CS/CS6200/HW_Data/IR_data/AP_DATA/stoplist.txt')\n",
    "\n",
    "stop_arr = []\n",
    "for line in stoplist:\n",
    "    stop_arr.append(line.strip())\n",
    "stop_arr = stop_arr + ['document', 'discuss', 'report', 'include', 'describe', 'identify', 'cite', 'predict', 'taken']\n"
   ]
  },
  {
   "cell_type": "code",
   "execution_count": 2,
   "metadata": {},
   "outputs": [],
   "source": [
    "new_docno_arr = []\n",
    "with open('./info/new_docno_arr.txt', 'r') as f:\n",
    "    new_docno_arr = json.load(f)"
   ]
  },
  {
   "cell_type": "code",
   "execution_count": 16,
   "metadata": {},
   "outputs": [],
   "source": [
    "query_file = open('./info/query_desc.51-100.short.txt', 'r')\n",
    "qrel_file = open('./info/qrels.adhoc.51-100.AP89.txt', 'r')\n",
    "\n",
    "qno_list = []\n",
    "\n",
    "for line in query_file:\n",
    "    qno_list.append(line.split('.')[0])\n",
    "    "
   ]
  },
  {
   "cell_type": "code",
   "execution_count": 4,
   "metadata": {},
   "outputs": [],
   "source": [
    "qrel_dict = {}\n",
    "for qno in qno_list:\n",
    "    qrel_dict[qno] = []\n"
   ]
  },
  {
   "cell_type": "code",
   "execution_count": 5,
   "metadata": {},
   "outputs": [],
   "source": [
    "for line in qrel_file:\n",
    "    if line.split()[0] in qrel_dict:\n",
    "        if line.split()[2] not in qrel_dict[line.split()[0]]:\n",
    "            qrel_dict[line.split()[0]].append(line.split()[2])"
   ]
  },
  {
   "cell_type": "code",
   "execution_count": 6,
   "metadata": {},
   "outputs": [
    {
     "data": {
      "text/plain": [
       "614"
      ]
     },
     "execution_count": 6,
     "metadata": {},
     "output_type": "execute_result"
    }
   ],
   "source": [
    "len(qrel_dict['85'])"
   ]
  },
  {
   "cell_type": "code",
   "execution_count": 7,
   "metadata": {},
   "outputs": [
    {
     "name": "stdout",
     "output_type": "stream",
     "text": [
      "{'85': ['alleg', 'measur', 'corrupt', 'public', 'offici', 'government', 'jurisdict', 'worldwid'], '59': ['type', 'weather', 'event', 'directli', 'caus', 'least', 'fatal', 'locat'], '56': ['prime', 'lend', 'rate', 'actual', 'prime', 'rate', 'move'], '71': ['incurs', 'land', 'air', 'water', 'border', 'area', 'countri', 'militari', 'forc', 'second', 'countri', 'guerrilla', 'group', 'base', 'second', 'countri'], '64': ['event', 'result', 'polit', 'motiv', 'hostag', 'take'], '62': ['militari', 'coup', \"d'etat\", 'attempt', 'success', 'countri'], '93': ['support', 'nation', 'rifl', 'associ', 'nra', 'asset'], '99': ['develop', 'iran', 'contra', 'affair'], '58': ['anticip', 'rail', 'strike', 'ongo', 'rail', 'strike'], '77': ['poach', 'method', 'type', 'wildlif'], '54': ['sign', 'contract', 'preliminari', 'agreement', 'make', 'tent', 'reserv', 'launch', 'commerci', 'satellit'], '87': ['current', 'crimin', 'action', 'offic', 'fail', 'u.', 'financi', 'institut'], '94': ['crime', 'perpetr', 'aid', 'comput'], '100': ['effort', 'non', 'communist', 'industri', 'state', 'regul', 'transfer', 'high', 'tech', 'good', 'technolog', 'undesir', 'nation'], '89': ['exist', 'pend', 'invest', 'opec', 'member', 'state', 'downstream', 'oper'], '61': ['role', 'israel', 'iran', 'contra', 'affair'], '95': ['comput', 'applic', 'crime', 'solv'], '68': ['actual', 'studi', 'unsubstanti', 'concern', 'safeti', 'manufactur', 'employe', 'instal', 'worker', 'fine', 'diamet', 'fiber', 'insul', 'product'], '57': ['mci', 'bell', 'system', 'breakup'], '97': ['instanc', 'fiber', 'optic', 'technolog', 'actual'], '98': ['individu', 'organ', 'produc', 'fiber', 'optic', 'equip'], '60': ['side', 'controversi', 'standard', 'perform', 'determin', 'salari', 'level', 'incent', 'pai', 'contrast', 'determin', 'pai', 'sole', 'basi', 'senior', 'longev', 'job'], '80': ['platform', '1988', 'presidenti', 'candid'], '63': ['machin', 'translat', 'system'], '91': ['acquisit', 'u.', 'armi', 'specifi', 'advanc', 'weapon', 'system']}\n"
     ]
    }
   ],
   "source": [
    "querylist = open('/Users/liyuetian/Documents/College/NEU/CS/CS6200/HW_Data/IR_data/AP_DATA/query_desc.51-100.short.txt')\n",
    "query_dict = {}\n",
    "word_arr = []\n",
    "query_arr = []\n",
    "\n",
    "for line in querylist:\n",
    "    if line.strip() != '':\n",
    "        queryno = re.sub('[^A-Za-z0-9]+', '', line.split()[0])\n",
    "        \n",
    "        modified = line[line.find(\".\")+1:]\n",
    "        terms = es.indices.analyze(index='hw6', body={'analyzer': 'stopped', 'text': modified})\n",
    "        for term in terms['tokens']:\n",
    "            query_arr.append(term['token'])\n",
    "        for word in query_arr:\n",
    "            if word not in stop_arr:\n",
    "                word_arr.append(word)\n",
    "        query_dict[queryno] = word_arr\n",
    "        word_arr = []\n",
    "        query_arr = []\n",
    "print(query_dict)\n"
   ]
  },
  {
   "cell_type": "code",
   "execution_count": 8,
   "metadata": {},
   "outputs": [
    {
     "name": "stdout",
     "output_type": "stream",
     "text": [
      "alleg measur corrupt public offici government jurisdict worldwid \n",
      "type weather event directli caus least fatal locat \n",
      "prime lend rate actual prime rate move \n",
      "incurs land air water border area countri militari forc second countri guerrilla group base second countri \n",
      "event result polit motiv hostag take \n",
      "militari coup d'etat attempt success countri \n",
      "support nation rifl associ nra asset \n",
      "develop iran contra affair \n",
      "anticip rail strike ongo rail strike \n",
      "poach method type wildlif \n",
      "sign contract preliminari agreement make tent reserv launch commerci satellit \n",
      "current crimin action offic fail u. financi institut \n",
      "crime perpetr aid comput \n",
      "effort non communist industri state regul transfer high tech good technolog undesir nation \n",
      "exist pend invest opec member state downstream oper \n",
      "role israel iran contra affair \n",
      "comput applic crime solv \n",
      "actual studi unsubstanti concern safeti manufactur employe instal worker fine diamet fiber insul product \n",
      "mci bell system breakup \n",
      "instanc fiber optic technolog actual \n",
      "individu organ produc fiber optic equip \n",
      "side controversi standard perform determin salari level incent pai contrast determin pai sole basi senior longev job \n",
      "platform 1988 presidenti candid \n",
      "machin translat system \n",
      "acquisit u. armi specifi advanc weapon system \n"
     ]
    }
   ],
   "source": [
    "\n",
    "for qno in query_dict:\n",
    "    query = ''\n",
    "    for term in query_dict[qno]:\n",
    "        query += term + ' '\n",
    "    print(query)\n",
    "    res = es.search(index='hw6', body={\"query\": {\"match\": {\"text\": query}}, \"size\": 12316})\n",
    "    rel_doc_list = []\n",
    "    for doc in res['hits']['hits']:\n",
    "        rel_doc_list.append(doc['_id'])\n",
    "    for doc in new_docno_arr:\n",
    "        if len(qrel_dict[qno]) == 1000:\n",
    "            break\n",
    "        if doc not in rel_doc_list:\n",
    "            qrel_dict[qno].append(doc)"
   ]
  },
  {
   "cell_type": "code",
   "execution_count": 9,
   "metadata": {},
   "outputs": [
    {
     "data": {
      "text/plain": [
       "1000"
      ]
     },
     "execution_count": 9,
     "metadata": {},
     "output_type": "execute_result"
    }
   ],
   "source": [
    "len(qrel_dict['85'])"
   ]
  },
  {
   "cell_type": "code",
   "execution_count": 10,
   "metadata": {},
   "outputs": [
    {
     "data": {
      "text/plain": [
       "1000"
      ]
     },
     "execution_count": 10,
     "metadata": {},
     "output_type": "execute_result"
    }
   ],
   "source": [
    "len(qrel_dict['85'])"
   ]
  },
  {
   "cell_type": "code",
   "execution_count": 11,
   "metadata": {},
   "outputs": [],
   "source": [
    "with open('./info/qrel_dict.txt', 'w') as f:\n",
    "    json.dump(qrel_dict, f)"
   ]
  },
  {
   "cell_type": "code",
   "execution_count": 17,
   "metadata": {},
   "outputs": [],
   "source": [
    "\n",
    "qrel_dict_labeled = {}\n",
    "for query, doc_list in qrel_dict.items():\n",
    "    qrel_dict_labeled[query] = {}\n",
    "    for doc in doc_list:\n",
    "        qrel_dict_labeled[query][doc] = 0\n"
   ]
  },
  {
   "cell_type": "code",
   "execution_count": 18,
   "metadata": {},
   "outputs": [],
   "source": [
    "qrel_file = open('./info/qrels.adhoc.51-100.AP89.txt', 'r')\n",
    "\n",
    "for line in qrel_file:\n",
    "    if line.split()[0] in qrel_dict_labeled:\n",
    "        qrel_dict_labeled[line.split()[0]][line.split()[2]] = line.split()[3]\n",
    "with open('./info/qrel_dict_labeled.txt', 'w') as f:\n",
    "    json.dump(qrel_dict_labeled, f)"
   ]
  },
  {
   "cell_type": "code",
   "execution_count": null,
   "metadata": {},
   "outputs": [],
   "source": []
  }
 ],
 "metadata": {
  "kernelspec": {
   "display_name": "Python 3",
   "language": "python",
   "name": "python3"
  },
  "language_info": {
   "codemirror_mode": {
    "name": "ipython",
    "version": 3
   },
   "file_extension": ".py",
   "mimetype": "text/x-python",
   "name": "python",
   "nbconvert_exporter": "python",
   "pygments_lexer": "ipython3",
   "version": "3.6.3"
  }
 },
 "nbformat": 4,
 "nbformat_minor": 4
}
